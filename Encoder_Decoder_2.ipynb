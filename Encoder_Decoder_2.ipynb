{
  "cells": [
    {
      "cell_type": "code",
      "source": [
        "#Ref: https://alvinntnu.github.io/python-notes/nlp/seq-to-seq-machine-translation.html"
      ],
      "metadata": {
        "id": "BYb8-aKPTXPh"
      },
      "execution_count": null,
      "outputs": []
    },
    {
      "cell_type": "code",
      "execution_count": 1,
      "metadata": {
        "id": "yW6wIhExqIhe"
      },
      "outputs": [],
      "source": [
        "import os, sys\n",
        "\n",
        "from keras.models import Model\n",
        "from keras.layers import Input, LSTM, GRU, Dense, Embedding\n",
        "from keras.preprocessing.text import Tokenizer\n",
        "from tensorflow.keras.preprocessing.sequence import pad_sequences\n",
        "from keras.utils import to_categorical\n",
        "import numpy as np\n",
        "import matplotlib.pyplot as plt"
      ]
    },
    {
      "cell_type": "markdown",
      "source": [],
      "metadata": {
        "id": "2Y06x8u1xzFe"
      }
    },
    {
      "cell_type": "code",
      "source": [
        "from google.colab import drive\n",
        "drive.mount('/content/drive')"
      ],
      "metadata": {
        "colab": {
          "base_uri": "https://localhost:8080/"
        },
        "id": "F_whcaL4T1t5",
        "outputId": "2481f44a-cee7-4251-c4f7-56bbdfd26422"
      },
      "execution_count": 2,
      "outputs": [
        {
          "output_type": "stream",
          "name": "stdout",
          "text": [
            "Mounted at /content/drive\n"
          ]
        }
      ]
    },
    {
      "cell_type": "code",
      "execution_count": 3,
      "metadata": {
        "id": "R-vNkTagqNPs"
      },
      "outputs": [],
      "source": [
        "# opening the train_source file in read mode\n",
        "my_file = open(\"/content/drive/MyDrive/NLP/Assignment-5/train-source.txt\", \"r\", encoding='UTF-8')\n",
        "\n",
        "data = my_file.read()\n",
        "train_source_list = data.replace('\\n',\" \").split('<s>')\n",
        "my_file.close()\n",
        "for item in range(len(train_source_list)):\n",
        "    train_source_list[item] = train_source_list[item].replace('</s>', '')\n",
        "\n",
        "my_file.close()"
      ]
    },
    {
      "cell_type": "code",
      "execution_count": null,
      "metadata": {
        "id": "tJESxteSS46v"
      },
      "outputs": [],
      "source": [
        "train_source_list"
      ]
    },
    {
      "cell_type": "code",
      "execution_count": 4,
      "metadata": {
        "id": "cMeA_KpUqgLk"
      },
      "outputs": [],
      "source": [
        "# opening the train-target file in read mode\n",
        "my_file = open(\"/content/drive/MyDrive/NLP/Assignment-5/train-target.txt\", \"r\", encoding='UTF-8')\n",
        "\n",
        "# reading the file\n",
        "data = my_file.read()\n",
        "train_target_list = data.replace('\\n',\" \").split('<s>')\n",
        "my_file.close()\n",
        "for item in range(len(train_source_list)):\n",
        "    train_target_list[item] = train_target_list[item].replace('</s>', '')\n",
        "my_file.close()"
      ]
    },
    {
      "cell_type": "code",
      "source": [
        "train_target_list"
      ],
      "metadata": {
        "id": "KhIOo31VwQLq"
      },
      "execution_count": null,
      "outputs": []
    },
    {
      "cell_type": "code",
      "source": [
        "from keras.models import Model\n",
        "from keras.layers import Input, LSTM, Dense\n",
        "import numpy as np\n",
        "\n",
        "batch_size = 64  # Batch size for training.\n",
        "epochs = 100  # Number of epochs to train for.\n",
        "latent_dim = 256  # Latent dimensionality of the encoding space.\n",
        "num_samples = 10000  # Number of samples to train on."
      ],
      "metadata": {
        "id": "makt-4pn708B"
      },
      "execution_count": 5,
      "outputs": []
    },
    {
      "cell_type": "code",
      "source": [
        "from tensorflow.python import train\n",
        "# Path to the data txt file on disk.\n",
        "\n",
        "# Vectorize the data.\n",
        "input_texts = train_source_list\n",
        "target_texts = train_target_list\n",
        "\n",
        "input_characters = set()\n",
        "for sentence in input_texts:\n",
        "    input_characters.update(sentence)\n",
        "\n",
        "target_characters = set()\n",
        "for sentence in target_texts:\n",
        "    target_characters.update(sentence)\n",
        "\n",
        "\n",
        "# Sort Dictionary\n",
        "input_characters = sorted(list(input_characters))\n",
        "target_characters = sorted(list(target_characters))\n",
        "num_encoder_tokens = len(input_characters)\n",
        "num_decoder_tokens = len(target_characters)\n",
        "\n",
        "# Find maxinum sent lengths \n",
        "max_encoder_seq_length = max([len(txt) for txt in input_texts])\n",
        "max_decoder_seq_length = max([len(txt) for txt in target_texts])\n",
        "\n",
        "print('Number of samples:', len(input_texts))\n",
        "print('Number of unique input tokens:', num_encoder_tokens)\n",
        "print('Number of unique output tokens:', num_decoder_tokens)\n",
        "print('Max sequence length for inputs:', max_encoder_seq_length)\n",
        "print('Max sequence length for outputs:', max_decoder_seq_length)"
      ],
      "metadata": {
        "colab": {
          "base_uri": "https://localhost:8080/"
        },
        "id": "T41Tnshl73YI",
        "outputId": "145bbf7c-f9c8-4eed-cb84-013c99da896d"
      },
      "execution_count": 6,
      "outputs": [
        {
          "output_type": "stream",
          "name": "stdout",
          "text": [
            "Number of samples: 45172\n",
            "Number of unique input tokens: 107\n",
            "Number of unique output tokens: 94\n",
            "Max sequence length for inputs: 1193\n",
            "Max sequence length for outputs: 1116\n"
          ]
        }
      ]
    },
    {
      "cell_type": "code",
      "source": [
        "# Create char index dictionary\n",
        "## char as the key and index as the value\n",
        "input_token_index = dict(\n",
        "    [(char, i) for i, char in enumerate(input_characters)])\n",
        "target_token_index = dict(\n",
        "    [(char, i) for i, char in enumerate(target_characters)])\n",
        "\n",
        "\n",
        "# Initialize encoder/decoder\n",
        "\n",
        "\n",
        "## Both input output are three dimensional tensors,\n",
        "## consisting of each sentence, with all words encoded in one-hot.\n",
        "\n",
        "## Input tensor dimensions: [input_batch_size, input_sequence_length, input_vecob/char_size]\n",
        "encoder_input_data = np.zeros(\n",
        "    (len(input_texts), max_encoder_seq_length, num_encoder_tokens),\n",
        "    dtype='float32')\n",
        "\n",
        "## Output tensor dimensions: [output_batch_size, output_sequence_length, output_vecob/char_size]\n",
        "decoder_input_data = np.zeros(\n",
        "    (len(input_texts), max_decoder_seq_length, num_decoder_tokens),\n",
        "    dtype='float32')\n",
        "decoder_target_data = np.zeros(\n",
        "    (len(input_texts), max_decoder_seq_length, num_decoder_tokens),\n",
        "    dtype='float32')"
      ],
      "metadata": {
        "id": "Pw_0eEes91Pw"
      },
      "execution_count": null,
      "outputs": []
    },
    {
      "cell_type": "code",
      "source": [
        "# One-hot encode input and output texts\n",
        "for i, (input_text, target_text) in enumerate(zip(input_texts, target_texts)):\n",
        "    for t, char in enumerate(input_text):\n",
        "        encoder_input_data[i, t, input_token_index[char]] = 1.\n",
        "    encoder_input_data[i, t + 1:, input_token_index[' ']] = 1.\n",
        "    for t, char in enumerate(target_text):\n",
        "        # decoder_target_data is ahead of decoder_input_data by one timestep\n",
        "        decoder_input_data[i, t, target_token_index[char]] = 1.\n",
        "        if t > 0:\n",
        "            # decoder_target_data will be ahead by one timestep\n",
        "            # and will not include the start character.\n",
        "            decoder_target_data[i, t - 1, target_token_index[char]] = 1.\n",
        "    decoder_input_data[i, t + 1:, target_token_index[' ']] = 1.\n",
        "    decoder_target_data[i, t:, target_token_index[' ']] = 1."
      ],
      "metadata": {
        "id": "cTS5W7IR-9Vm"
      },
      "execution_count": null,
      "outputs": []
    },
    {
      "cell_type": "code",
      "source": [
        "## Define Model\n",
        "\n",
        "\n",
        "## Set up encoder\n",
        "# Define an input sequence and process it.\n",
        "encoder_inputs = Input(shape=(None, num_encoder_tokens)) # one word at a time, with vocab_size dimension, i.e., one-hot encoding\n",
        "encoder = LSTM(latent_dim, return_state=True)\n",
        "encoder_outputs, state_h, state_c = encoder(encoder_inputs)\n",
        "\n",
        "\n",
        "# We discard `encoder_outputs` and only keep the states.\n",
        "encoder_states = [state_h, state_c] # concatenate the states_h and states_c from encoder ?\n",
        "\n",
        "## the encoder_states shape: [state_h + state+c, latent_dim]"
      ],
      "metadata": {
        "id": "6u3ab7Vk--pf"
      },
      "execution_count": null,
      "outputs": []
    },
    {
      "cell_type": "code",
      "source": [
        "# Set up the decoder, using `encoder_states` as initial state.\n",
        "decoder_inputs = Input(shape=(None, num_decoder_tokens)) # one word at a time, with vocab_size dimension,\n",
        "\n",
        "# We set up our decoder to return full output sequences, (i.e, `return_sequences=True`)\n",
        "# and to return internal states as well. We don't use the\n",
        "# return states in the training model, but we will use them in inference.\n",
        "decoder_lstm = LSTM(latent_dim, return_sequences=True, return_state=True)\n",
        "decoder_outputs, _, _ = decoder_lstm(decoder_inputs,\n",
        "                                     initial_state=encoder_states)\n",
        "\n",
        "## softmax the decoder outputs to get prob of target language word\n",
        "decoder_dense = Dense(num_decoder_tokens, activation='softmax')\n",
        "decoder_outputs = decoder_dense(decoder_outputs)"
      ],
      "metadata": {
        "id": "l9aiYYa1-_5l"
      },
      "execution_count": null,
      "outputs": []
    },
    {
      "cell_type": "code",
      "source": [
        "# Define the model that will turn\n",
        "# `encoder_input_data` & `decoder_input_data` into `decoder_target_data`\n",
        "model = Model([encoder_inputs, decoder_inputs], decoder_outputs)"
      ],
      "metadata": {
        "id": "KapQQ7VA_BBF"
      },
      "execution_count": null,
      "outputs": []
    },
    {
      "cell_type": "code",
      "source": [
        "from keras.utils import plot_model\n",
        "import pydot\n",
        "plot_model(model)"
      ],
      "metadata": {
        "id": "RUjB1TCI_CC6"
      },
      "execution_count": null,
      "outputs": []
    },
    {
      "cell_type": "code",
      "source": [
        "# # Run training\n",
        "# model.compile(optimizer='rmsprop', loss='categorical_crossentropy',\n",
        "#               metrics=['accuracy'])\n",
        "# model.fit([encoder_input_data, decoder_input_data], decoder_target_data,\n",
        "#           batch_size=batch_size,\n",
        "#           epochs=epochs,\n",
        "#           validation_split=0.2)"
      ],
      "metadata": {
        "id": "ORaEXejL_ERU"
      },
      "execution_count": null,
      "outputs": []
    },
    {
      "cell_type": "code",
      "source": [
        "# Save model\n",
        "# model.save('../data/s2s-cmn.h5')"
      ],
      "metadata": {
        "id": "qi3nTRvJ_Fet"
      },
      "execution_count": null,
      "outputs": []
    },
    {
      "cell_type": "code",
      "source": [
        "model.summary()"
      ],
      "metadata": {
        "id": "ffegepQf_GtM"
      },
      "execution_count": null,
      "outputs": []
    },
    {
      "cell_type": "code",
      "source": [
        "## If the model is loaded via external files\n",
        "## Load the encoder_model, decoder_model this way\n",
        "from keras.models import load_model\n",
        "model.load_weights('../../../RepositoryData/data/s2s-cmn.h5')\n",
        "\n",
        "\n",
        "\n",
        "## Create Inference model\n",
        "encoder_inputs = model.input[0] #input_1\n",
        "encoder_outputs, state_h_enc, state_c_enc = model.layers[2].output # lstm_1\n",
        "encoder_states = [state_h_enc, state_c_enc]\n",
        "encoder_model = Model(encoder_inputs, encoder_states)\n",
        "\n",
        "\n",
        "decoder_inputs = model.input[1] #input_2\n",
        "decoder_state_input_h = Input(shape=(latent_dim,),name='input_3') # state_h\n",
        "decoder_state_input_c = Input(shape=(latent_dim,),name='input_4') # state_c\n",
        "decoder_states_inputs = [decoder_state_input_h, decoder_state_input_c] # concat state_h and state_c\n",
        "\n",
        "decoder_lstm = model.layers[3]\n",
        "\n",
        "## In training, we use `decoder_ouputs` only.\n",
        "## In inferencing, we need `decoder_c, and decoder_h`\n",
        "## because these c and h form the basis for next decoder input\n",
        "decoder_outputs, state_h_dec, state_c_dec = decoder_lstm(\n",
        "    decoder_inputs, initial_state=decoder_states_inputs)\n",
        "decoder_states = [state_h_dec, state_c_dec]\n",
        "decoder_dense = model.layers[4]\n",
        "decoder_outputs=decoder_dense(decoder_outputs)\n",
        "\n",
        "\n",
        "## Inference Model\n",
        "decoder_model = Model(\n",
        "    [decoder_inputs] + decoder_states_inputs, # target sentence + encoder output h+c\n",
        "    [decoder_outputs] + decoder_states) # decoder predicted char + decoder predicted h+c"
      ],
      "metadata": {
        "id": "B4Ck0pfQ_IcI"
      },
      "execution_count": null,
      "outputs": []
    },
    {
      "cell_type": "code",
      "source": [
        "# Reverse-lookup token index to decode sequences back to\n",
        "# something readable.\n",
        "reverse_input_char_index = dict(\n",
        "    (i, char) for char, i in input_token_index.items())\n",
        "reverse_target_char_index = dict(\n",
        "    (i, char) for char, i in target_token_index.items())\n",
        "\n",
        "\n",
        "def decode_sequence(input_seq):\n",
        "    \n",
        "    # Encode the input as state vectors.\n",
        "    states_value = encoder_model.predict(input_seq)\n",
        "\n",
        "    # Generate empty target sequence of length 1.\n",
        "    target_seq = np.zeros((1, 1, num_decoder_tokens))\n",
        "    \n",
        "    # Populate the first character of target sequence with the start character.\n",
        "    target_seq[0, 0, target_token_index['\\t']] = 1.0\n",
        "\n",
        "    # Sampling loop for a batch of sequences\n",
        "    # (to simplify, here we assume a batch of size 1).\n",
        "    stop_condition = False\n",
        "    decoded_sentence = ''\n",
        "    \n",
        "    while not stop_condition:\n",
        "        # inference starts at the first target char\n",
        "        # first target char + encoder output h + c\n",
        "        output_tokens, h, c = decoder_model.predict(\n",
        "            [target_seq] + states_value)\n",
        "\n",
        "        # Sample a token\n",
        "        ## Choose the output char of the argmax prob\n",
        "        ## one-hot decode the char and append to the `decoded_sentence`\n",
        "        sampled_token_index = np.argmax(output_tokens[0, -1, :])\n",
        "        sampled_char = reverse_target_char_index[sampled_token_index]\n",
        "        decoded_sentence += sampled_char\n",
        "\n",
        "        # Exit condition: either hit max length\n",
        "        # or find stop character.\n",
        "        if (sampled_char == '\\n' or\n",
        "           len(decoded_sentence) > max_decoder_seq_length):\n",
        "            stop_condition = True\n",
        "\n",
        "        # Update the target sequence (of length 1).\n",
        "        ## everytime the target_seq is the cur_t char, one char a time\n",
        "        ## the shape should be [1, ,1 vocab_size]\n",
        "        target_seq = np.zeros((1, 1, num_decoder_tokens))\n",
        "        target_seq[0, 0, sampled_token_index] = 1.0\n",
        "\n",
        "        # Update states\n",
        "        ## the h and c output from decoder at cur_t\n",
        "        states_value = [h, c]\n",
        "\n",
        "    return decoded_sentence\n",
        "\n",
        "\n",
        "for seq_index in range(10):\n",
        "    # Take one sequence (part of the training set)\n",
        "    # for trying out decoding.\n",
        "    input_seq = encoder_input_data[seq_index: seq_index + 1]\n",
        "    decoded_sentence = decode_sequence(input_seq)\n",
        "    print('-')\n",
        "    print('Input sentence:', input_texts[seq_index])\n",
        "    print('Decoded sentence:', decoded_sentence)"
      ],
      "metadata": {
        "id": "_oBVJ_EA_J1f"
      },
      "execution_count": null,
      "outputs": []
    }
  ],
  "metadata": {
    "colab": {
      "provenance": []
    },
    "kernelspec": {
      "display_name": "Python 3.10.4 64-bit",
      "language": "python",
      "name": "python3"
    },
    "language_info": {
      "codemirror_mode": {
        "name": "ipython",
        "version": 3
      },
      "file_extension": ".py",
      "mimetype": "text/x-python",
      "name": "python",
      "nbconvert_exporter": "python",
      "pygments_lexer": "ipython3",
      "version": "3.10.4"
    },
    "vscode": {
      "interpreter": {
        "hash": "e5c4b6e65ccaabe18f9cd3218992e678d372855fbc859c2eb66bba448f3faf11"
      }
    },
    "accelerator": "GPU",
    "gpuClass": "standard"
  },
  "nbformat": 4,
  "nbformat_minor": 0
}